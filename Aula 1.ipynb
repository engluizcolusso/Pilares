{
 "cells": [
  {
   "cell_type": "code",
   "execution_count": 79,
   "id": "a7c9648a",
   "metadata": {},
   "outputs": [
    {
     "name": "stdout",
     "output_type": "stream",
     "text": [
      "Escolha o número:-9\n",
      "O número que você inseriu é menor do que zero\n",
      "Deseja continuar?(s=sim/n=não)s\n",
      "Escolha o número:3.5\n",
      "O número que você inseriu não é um número inteiro\n",
      "Deseja continuar?(s=sim/n=não)q\n",
      "Resposta invalida\n",
      "Digite \"s\" para sim e \"n\" para nãos\n",
      "Escolha o número:7\n",
      "1\n",
      "2\n",
      "6\n",
      "24\n",
      "120\n",
      "720\n",
      "5040\n",
      "Resultado = 5040\n"
     ]
    }
   ],
   "source": [
    "#FATORIAL\n",
    "'''\n",
    "Escolher um Numero\n",
    "verificar se é um numero\n",
    "verificar se é positivo\n",
    "'''\n",
    "#Escolher o número\n",
    "\n",
    "while True:\n",
    "    n1 = input(\"Escolha o número:\")\n",
    "    try:\n",
    "        n1 = int(n1)\n",
    "        while int(n1)<0:\n",
    "            print(\"O número que você inseriu é menor do que zero\")\n",
    "            continuar = input(\"Deseja continuar?(s=sim/n=não)\")\n",
    "            while continuar != \"s\" and continuar != \"n\":\n",
    "                print(\"Resposta invalida\")\n",
    "                continuar = input('Digite \"s\" para sim e \"n\" para não')\n",
    "            if continuar == \"n\":\n",
    "                n1 = 0\n",
    "                calcular = \"n\"\n",
    "                break\n",
    "            else:\n",
    "                n1 = input(\"Escolha o número:\")\n",
    "                calcular = \"s\"\n",
    "        break\n",
    "    except ValueError:\n",
    "        print(\"O número que você inseriu não é um número inteiro\")\n",
    "        continuar = input(\"Deseja continuar?(s=sim/n=não)\")\n",
    "        while continuar != \"s\" and continuar != \"n\":\n",
    "            print(\"Resposta invalida\")\n",
    "            continuar = input('Digite \"s\" para sim e \"n\" para não')\n",
    "        if continuar == \"n\":\n",
    "            n1 = 0\n",
    "            calcular = \"n\"\n",
    "            break\n",
    "        else:\n",
    "            calcular = \"s\"\n",
    "if calcular == \"n\":\n",
    "    n1=0\n",
    "else:\n",
    "    x1 = int(n1)\n",
    "    if x1 == 1:\n",
    "        contador = 1\n",
    "        print(\"Resultado = \"+str(contador))\n",
    "    else:\n",
    "                            #Calcular o fatorial\n",
    "        contador = 1\n",
    "        for i in range(contador,x1+1):\n",
    "            contador = contador * i\n",
    "            print(contador)\n",
    "        print(\"Resultado = \"+str(contador))"
   ]
  },
  {
   "cell_type": "code",
   "execution_count": null,
   "id": "0a5cc4ac",
   "metadata": {},
   "outputs": [],
   "source": [
    "while True:\n",
    "    user_input = input(\"Digite um número: \")\n",
    "    \n",
    "    if user_input.isdigit():  # Verifica se a entrada é composta apenas por dígitos\n",
    "        numero = int(user_input)  # Converte a entrada em um número inteiro\n",
    "        break  # Sai do loop se uma entrada válida for fornecida\n",
    "    else:\n",
    "        print(\"Por favor, insira um número válido.\")\n"
   ]
  },
  {
   "cell_type": "code",
   "execution_count": 10,
   "id": "2335f629",
   "metadata": {},
   "outputs": [
    {
     "name": "stdout",
     "output_type": "stream",
     "text": [
      "Digite um número: 9\n",
      "9! = 362880\n"
     ]
    }
   ],
   "source": [
    "# Função para calcular o fatorial de um número\n",
    "def calcular_fatorial(numero):\n",
    "    if numero < 0:\n",
    "        return \"O fatorial não está definido para números negativos.\"\n",
    "    elif numero == 0:\n",
    "        return 1\n",
    "    else:\n",
    "        resultado = 1\n",
    "        for i in range(1, numero + 1):\n",
    "            resultado *= i\n",
    "        return resultado\n",
    "\n",
    "while True:\n",
    "    user_input = input(\"Digite um número: \")\n",
    "    \n",
    "    if user_input.isdigit():  # Verifica se a entrada é composta apenas por dígitos\n",
    "        numero = int(user_input)\n",
    "        fatorial = calcular_fatorial(numero)\n",
    "        print(f\"{numero}! = {fatorial}\")# Converte a entrada em um número inteiro\n",
    "        break  # Sai do loop se uma entrada válida for fornecida\n",
    "\n"
   ]
  },
  {
   "cell_type": "code",
   "execution_count": 3,
   "id": "97cd972d",
   "metadata": {},
   "outputs": [
    {
     "name": "stdout",
     "output_type": "stream",
     "text": [
      "2\n"
     ]
    }
   ],
   "source": [
    "h = 1+1\n",
    "print(h)"
   ]
  },
  {
   "cell_type": "code",
   "execution_count": 11,
   "id": "66882f54",
   "metadata": {},
   "outputs": [
    {
     "name": "stdout",
     "output_type": "stream",
     "text": [
      "Digite um número inteiro: ········\n",
      "Por favor, insira apenas números.\n",
      "Digite um número inteiro: ········\n",
      "Você digitou o número: 5\n"
     ]
    }
   ],
   "source": [
    "import getpass\n",
    "\n",
    "def obter_numero_inteiro():\n",
    "    while True:\n",
    "        try:\n",
    "            entrada = getpass.getpass(\"Digite um número inteiro: \")\n",
    "            if entrada.isdigit():\n",
    "                return int(entrada)\n",
    "            else:\n",
    "                print(\"Por favor, insira apenas números.\")\n",
    "        except ValueError:\n",
    "            print(\"Por favor, insira um número inteiro válido.\")\n",
    "\n",
    "numero = obter_numero_inteiro()\n",
    "print(f\"Você digitou o número: {numero}\")\n"
   ]
  },
  {
   "cell_type": "code",
   "execution_count": 16,
   "id": "43615868",
   "metadata": {},
   "outputs": [
    {
     "name": "stdout",
     "output_type": "stream",
     "text": [
      "Digite o número correspondente:\n",
      "                   1 - O esposo\n",
      "                   2 - A esposa\n",
      "                   3 - Sair\n",
      "                   1\n",
      "O esposo é lindo\n",
      "Digite o número correspondente:\n",
      "                   1 - O esposo\n",
      "                   2 - A esposa\n",
      "                   3 - Sair\n",
      "                   2\n",
      "A esposa é linda\n",
      "Digite o número correspondente:\n",
      "                   1 - O esposo\n",
      "                   2 - A esposa\n",
      "                   3 - Sair\n",
      "                   3\n"
     ]
    }
   ],
   "source": [
    "while True:\n",
    "    codigo = int(input('''Digite o número correspondente:\n",
    "                   1 - O esposo\n",
    "                   2 - A esposa\n",
    "                   3 - Sair\n",
    "                   '''))\n",
    "    if codigo == 1:\n",
    "        print(\"O esposo é lindo\")\n",
    "    elif codigo ==2:\n",
    "        print(\"A esposa é linda\")\n",
    "    else:\n",
    "        break"
   ]
  },
  {
   "cell_type": "code",
   "execution_count": null,
   "id": "f1880af2",
   "metadata": {},
   "outputs": [
    {
     "name": "stdout",
     "output_type": "stream",
     "text": [
      "Insira o login: 123\n",
      "Insira a senha: 456\n",
      "Usuário ou senha incorretos\n",
      "Insira o login: 484\n",
      "Insira a senha: 15\n",
      "Usuário ou senha incorretos\n",
      "Insira o login: esposo\n",
      "Insira a senha: esposa\n",
      "Brabo!\n"
     ]
    }
   ],
   "source": [
    "a = \"esposo\"\n",
    "b = \"esposa\"\n",
    "while True:\n",
    "    login = input(\"Insira o login: \")\n",
    "    senha = input(\"Insira a senha: \")\n",
    "    if login == a and senha == b:\n",
    "        print(\"Brabo!\")\n",
    "    else:\n",
    "        print(\"Usuário ou senha incorretos\")\n",
    "    "
   ]
  },
  {
   "cell_type": "code",
   "execution_count": null,
   "id": "91e7056f",
   "metadata": {},
   "outputs": [],
   "source": []
  }
 ],
 "metadata": {
  "celltoolbar": "Raw Cell Format",
  "kernelspec": {
   "display_name": "Python 3 (ipykernel)",
   "language": "python",
   "name": "python3"
  },
  "language_info": {
   "codemirror_mode": {
    "name": "ipython",
    "version": 3
   },
   "file_extension": ".py",
   "mimetype": "text/x-python",
   "name": "python",
   "nbconvert_exporter": "python",
   "pygments_lexer": "ipython3",
   "version": "3.9.13"
  }
 },
 "nbformat": 4,
 "nbformat_minor": 5
}
